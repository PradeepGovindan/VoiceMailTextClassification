{
 "cells": [
  {
   "cell_type": "code",
   "execution_count": 1,
   "metadata": {},
   "outputs": [
    {
     "name": "stdout",
     "output_type": "stream",
     "text": [
      "***Voice Mail Text Classifcation***\n"
     ]
    }
   ],
   "source": [
    "print(\"***Voice Mail Text Classifcation***\")"
   ]
  },
  {
   "cell_type": "code",
   "execution_count": 2,
   "metadata": {},
   "outputs": [],
   "source": [
    "#Import required packages\n",
    "import string\n",
    "import collections\n",
    "import pandas as pd \n",
    "import pyodbc\n",
    "from nltk import word_tokenize\n",
    "from nltk.stem import PorterStemmer\n",
    "from nltk.corpus import stopwords\n",
    "from sklearn.cluster import KMeans\n",
    "from sklearn.feature_extraction.text import TfidfVectorizer\n",
    "from pprint import pprint\n",
    "from sklearn.naive_bayes import MultinomialNB\n",
    "from sklearn.linear_model import SGDClassifier\n",
    "from sklearn.svm import LinearSVC\n",
    "from sklearn.linear_model import LogisticRegression\n",
    "from sklearn.ensemble import RandomForestClassifier\n",
    "from sklearn.model_selection import train_test_split\n",
    "from sklearn.feature_extraction.text import CountVectorizer\n",
    "from sklearn.metrics import confusion_matrix, classification_report\n",
    "from sklearn.model_selection import cross_val_score"
   ]
  },
  {
   "cell_type": "code",
   "execution_count": 3,
   "metadata": {},
   "outputs": [],
   "source": [
    "import warnings\n",
    "warnings.filterwarnings('ignore')"
   ]
  },
  {
   "cell_type": "code",
   "execution_count": 4,
   "metadata": {},
   "outputs": [],
   "source": [
    "def process_text(text, stem=True):\n",
    "    \"\"\"Tokenize text and stem words removing punctuation \"\"\"\n",
    "    text = text.translate(str.maketrans('','',string.punctuation))\n",
    "    #print(text)\n",
    "    tokens = word_tokenize(text)\n",
    " \n",
    "    if stem:\n",
    "        \n",
    "        stemmer = PorterStemmer()\n",
    "        tokens = [stemmer.stem(t) for t in tokens]\n",
    "#         lemmatizer = WordNetLemmatizer()\n",
    "#         tokens = [lemmatizer.lemmatize(t) for t in tokens]\n",
    " \n",
    "    return tokens"
   ]
  },
  {
   "cell_type": "code",
   "execution_count": 5,
   "metadata": {},
   "outputs": [],
   "source": [
    "def vect_texts(call_texts):\n",
    "    \"\"\"Vectorize the texts and remove the stop words\"\"\"\n",
    "    vectorizer = TfidfVectorizer(tokenizer=process_text,\n",
    "                                     stop_words=stopwords.words('english'),\n",
    "                                     max_df=0.5,\n",
    "                                     min_df=0.1,\n",
    "                                     lowercase=True,\n",
    "                                ngram_range=(1, 2))\n",
    "\n",
    "    tfidf_model = vectorizer.fit_transform(call_texts)\n",
    "    return tfidf_model"
   ]
  },
  {
   "cell_type": "code",
   "execution_count": 6,
   "metadata": {},
   "outputs": [
    {
     "data": {
      "text/plain": [
       "'print(pyodbc.drivers())\\nsqlConn = pyodbc.connect(\\'DRIVER={xxx};SERVER=xxx;DATABASE=xxx;UID=xxx;PWD=xxx\\')\\nquery = \"SELECT * FROM All_leads\"\\nprimary_df = pd.read_sql(query, sqlConn)\\nprimary_df.head(5)'"
      ]
     },
     "execution_count": 6,
     "metadata": {},
     "output_type": "execute_result"
    }
   ],
   "source": [
    "#Commenting because server is down\n",
    "\"\"\"print(pyodbc.drivers())\n",
    "sqlConn = pyodbc.connect('DRIVER={xxx};SERVER=xxx;DATABASE=xxx;UID=xxx;PWD=xxx')\n",
    "query = \"SELECT * FROM All_leads\"\n",
    "primary_df = pd.read_sql(query, sqlConn)\n",
    "primary_df.head(5)\"\"\""
   ]
  },
  {
   "cell_type": "code",
   "execution_count": 7,
   "metadata": {},
   "outputs": [
    {
     "name": "stdout",
     "output_type": "stream",
     "text": [
      "Reading primary data\n"
     ]
    }
   ],
   "source": [
    "#Read \"All Leads\" Data\n",
    "print(\"Reading primary data\")\n",
    "primary_df = pd.read_excel(\"All Leads class.xlsx\")\n",
    "pr_df_proc = primary_df[primary_df['Description'].notna()]\n",
    "pr_df_proc = pr_df_proc.reset_index()"
   ]
  },
  {
   "cell_type": "code",
   "execution_count": 8,
   "metadata": {},
   "outputs": [],
   "source": [
    "def prepro(text):\n",
    "    \"\"\"Function to preprocess Primary data\"\"\"\n",
    "    pro_text = text.strip()\n",
    "    pro_text = pro_text.replace('\\n','')\n",
    "    pro_text =pro_text.replace('\\r', '')\n",
    "    pro_text =pro_text.replace('\\t', '')\n",
    "    return pro_text"
   ]
  },
  {
   "cell_type": "code",
   "execution_count": 9,
   "metadata": {},
   "outputs": [],
   "source": [
    "pr_df_proc[\"Proc_text\"] = pr_df_proc[\"Description\"].apply(prepro)"
   ]
  },
  {
   "cell_type": "code",
   "execution_count": 10,
   "metadata": {},
   "outputs": [],
   "source": [
    "features = vect_texts(pr_df_proc[\"Proc_text\"])"
   ]
  },
  {
   "cell_type": "code",
   "execution_count": 11,
   "metadata": {},
   "outputs": [
    {
     "name": "stdout",
     "output_type": "stream",
     "text": [
      "Running 10 fold cross validation on multiple models for primary data\n"
     ]
    }
   ],
   "source": [
    "#Initialize list of models to be used for cross validation\n",
    "models = [\n",
    "    RandomForestClassifier(n_estimators=200, max_depth=3, random_state=0),\n",
    "    LinearSVC(),\n",
    "    SGDClassifier(),\n",
    "    MultinomialNB(),\n",
    "    LogisticRegression(random_state=0),\n",
    "]\n",
    "print(\"Running 10 fold cross validation on multiple models for primary data\")\n",
    "CV = 10        #10 fold cross validation\n",
    "cv_df = pd.DataFrame(index=range(CV * len(models)))     #Intialiaze data frame to store results\n",
    "entries = []\n",
    "for model in models:\n",
    "  model_name = model.__class__.__name__\n",
    "  accuracies = cross_val_score(model, features, pr_df_proc[\"Class\"], scoring='accuracy', cv=CV)\n",
    "  for fold_idx, accuracy in enumerate(accuracies):\n",
    "    entries.append((model_name, fold_idx, accuracy))\n",
    "cv_df = pd.DataFrame(entries, columns=['model_name', 'fold_idx', 'accuracy'])"
   ]
  },
  {
   "cell_type": "code",
   "execution_count": 12,
   "metadata": {},
   "outputs": [
    {
     "name": "stdout",
     "output_type": "stream",
     "text": [
      "Model accuracy after cross validation for primary data\n",
      "model_name\n",
      "LinearSVC                 0.768571\n",
      "LogisticRegression        0.755238\n",
      "MultinomialNB             0.755238\n",
      "RandomForestClassifier    0.755238\n",
      "SGDClassifier             0.651905\n",
      "Name: accuracy, dtype: float64\n"
     ]
    }
   ],
   "source": [
    "print(\"Model accuracy after cross validation for primary data\")\n",
    "print(cv_df.groupby('model_name').accuracy.mean())"
   ]
  },
  {
   "cell_type": "code",
   "execution_count": 13,
   "metadata": {},
   "outputs": [],
   "source": [
    "def get_text(text):\n",
    "    \"\"\"Function to preprocess secondary data\"\"\"\n",
    "    pro_text = text.split(\"Name/Reason:\")[1]\n",
    "    pro_text = text.strip()\n",
    "    pro_text = pro_text.replace('\\n','')\n",
    "    pro_text =pro_text.replace('\\r', '')\n",
    "    pro_text =pro_text.replace('\\t', '')\n",
    "    return pro_text"
   ]
  },
  {
   "cell_type": "code",
   "execution_count": 14,
   "metadata": {},
   "outputs": [
    {
     "name": "stdout",
     "output_type": "stream",
     "text": [
      "Reading secondary data\n"
     ]
    },
    {
     "data": {
      "text/html": [
       "<div>\n",
       "<style scoped>\n",
       "    .dataframe tbody tr th:only-of-type {\n",
       "        vertical-align: middle;\n",
       "    }\n",
       "\n",
       "    .dataframe tbody tr th {\n",
       "        vertical-align: top;\n",
       "    }\n",
       "\n",
       "    .dataframe thead th {\n",
       "        text-align: right;\n",
       "    }\n",
       "</style>\n",
       "<table border=\"1\" class=\"dataframe\">\n",
       "  <thead>\n",
       "    <tr style=\"text-align: right;\">\n",
       "      <th></th>\n",
       "      <th>Proc_text</th>\n",
       "      <th>Class</th>\n",
       "    </tr>\n",
       "  </thead>\n",
       "  <tbody>\n",
       "    <tr>\n",
       "      <th>0</th>\n",
       "      <td>Incoming Message for: AI Health, Number: +6126...</td>\n",
       "      <td>Contact</td>\n",
       "    </tr>\n",
       "    <tr>\n",
       "      <th>1</th>\n",
       "      <td>Incoming Message for: AI Australia, Number: +6...</td>\n",
       "      <td>Contact</td>\n",
       "    </tr>\n",
       "    <tr>\n",
       "      <th>2</th>\n",
       "      <td>Incoming Message for: AI Health, Number: +6126...</td>\n",
       "      <td>Contact</td>\n",
       "    </tr>\n",
       "    <tr>\n",
       "      <th>3</th>\n",
       "      <td>Incoming Message for: AI Health, Number: +6143...</td>\n",
       "      <td>Contact</td>\n",
       "    </tr>\n",
       "    <tr>\n",
       "      <th>4</th>\n",
       "      <td>Incoming Message for: AI Australia, Number: +1...</td>\n",
       "      <td>Contact</td>\n",
       "    </tr>\n",
       "    <tr>\n",
       "      <th>5</th>\n",
       "      <td>Incoming Message for: AI Australia, Number: +9...</td>\n",
       "      <td>Contact</td>\n",
       "    </tr>\n",
       "    <tr>\n",
       "      <th>6</th>\n",
       "      <td>Incoming Message for: AI Australia, Number: +6...</td>\n",
       "      <td>Job</td>\n",
       "    </tr>\n",
       "    <tr>\n",
       "      <th>7</th>\n",
       "      <td>Incoming Message for: AI Australia, Number: +6...</td>\n",
       "      <td>Contact</td>\n",
       "    </tr>\n",
       "    <tr>\n",
       "      <th>8</th>\n",
       "      <td>Incoming Message for: AI Australia, Number: +6...</td>\n",
       "      <td>Contact</td>\n",
       "    </tr>\n",
       "    <tr>\n",
       "      <th>9</th>\n",
       "      <td>Incoming Message for: AI Australia, Number: +9...</td>\n",
       "      <td>Contact</td>\n",
       "    </tr>\n",
       "    <tr>\n",
       "      <th>10</th>\n",
       "      <td>Incoming Message for: AI Health, Number: +6129...</td>\n",
       "      <td>Contact</td>\n",
       "    </tr>\n",
       "    <tr>\n",
       "      <th>11</th>\n",
       "      <td>Incoming Message for: AI Health, Number: +6143...</td>\n",
       "      <td>Contact</td>\n",
       "    </tr>\n",
       "    <tr>\n",
       "      <th>12</th>\n",
       "      <td>Incoming Message for: AI Health, Number: +6143...</td>\n",
       "      <td>Contact</td>\n",
       "    </tr>\n",
       "    <tr>\n",
       "      <th>13</th>\n",
       "      <td>Incoming Message for: AI Health, Number: +6143...</td>\n",
       "      <td>Contact</td>\n",
       "    </tr>\n",
       "    <tr>\n",
       "      <th>14</th>\n",
       "      <td>Incoming Message for: AI Australia, Number: +9...</td>\n",
       "      <td>Contact</td>\n",
       "    </tr>\n",
       "    <tr>\n",
       "      <th>15</th>\n",
       "      <td>Incoming Message for: AI Australia, Number: +9...</td>\n",
       "      <td>Contact</td>\n",
       "    </tr>\n",
       "    <tr>\n",
       "      <th>16</th>\n",
       "      <td>Incoming Message for: AI Australia, Number: +6...</td>\n",
       "      <td>Job</td>\n",
       "    </tr>\n",
       "    <tr>\n",
       "      <th>17</th>\n",
       "      <td>Incoming Message for: AI Australia, Number: +6...</td>\n",
       "      <td>Contact</td>\n",
       "    </tr>\n",
       "    <tr>\n",
       "      <th>18</th>\n",
       "      <td>Incoming Message for: AI Australia, Number: +6...</td>\n",
       "      <td>Contact</td>\n",
       "    </tr>\n",
       "    <tr>\n",
       "      <th>19</th>\n",
       "      <td>Incoming Message for: AI Australia, Number: +6...</td>\n",
       "      <td>Contact</td>\n",
       "    </tr>\n",
       "    <tr>\n",
       "      <th>20</th>\n",
       "      <td>Incoming Message for: AI Australia, Number: +6...</td>\n",
       "      <td>Test</td>\n",
       "    </tr>\n",
       "    <tr>\n",
       "      <th>21</th>\n",
       "      <td>Incoming Message for: AI Australia, Number: +6...</td>\n",
       "      <td>Job</td>\n",
       "    </tr>\n",
       "    <tr>\n",
       "      <th>22</th>\n",
       "      <td>Incoming Message for: AI Australia, Number: +6...</td>\n",
       "      <td>Job</td>\n",
       "    </tr>\n",
       "    <tr>\n",
       "      <th>23</th>\n",
       "      <td>Incoming Message for: AI Australia, Number: +9...</td>\n",
       "      <td>Contact</td>\n",
       "    </tr>\n",
       "    <tr>\n",
       "      <th>24</th>\n",
       "      <td>Incoming Message for: AI Australia, Number: +6...</td>\n",
       "      <td>Job</td>\n",
       "    </tr>\n",
       "    <tr>\n",
       "      <th>25</th>\n",
       "      <td>Incoming Message for: AI Australia, Number: +6...</td>\n",
       "      <td>Job</td>\n",
       "    </tr>\n",
       "    <tr>\n",
       "      <th>26</th>\n",
       "      <td>Incoming Message for: AI Australia, Number: +6...</td>\n",
       "      <td>Job</td>\n",
       "    </tr>\n",
       "    <tr>\n",
       "      <th>27</th>\n",
       "      <td>Incoming Message for: AI Australia, Number: +6...</td>\n",
       "      <td>Job</td>\n",
       "    </tr>\n",
       "    <tr>\n",
       "      <th>28</th>\n",
       "      <td>Incoming Message for: AI Australia, Number: +6...</td>\n",
       "      <td>Job</td>\n",
       "    </tr>\n",
       "    <tr>\n",
       "      <th>29</th>\n",
       "      <td>Incoming Message for: AI Australia, Number: +6...</td>\n",
       "      <td>Job</td>\n",
       "    </tr>\n",
       "    <tr>\n",
       "      <th>...</th>\n",
       "      <td>...</td>\n",
       "      <td>...</td>\n",
       "    </tr>\n",
       "    <tr>\n",
       "      <th>31</th>\n",
       "      <td>Incoming Message for: AI Australia, Number: +6...</td>\n",
       "      <td>Job</td>\n",
       "    </tr>\n",
       "    <tr>\n",
       "      <th>32</th>\n",
       "      <td>Incoming Message for: AI Australia, Number: +6...</td>\n",
       "      <td>Marketing</td>\n",
       "    </tr>\n",
       "    <tr>\n",
       "      <th>33</th>\n",
       "      <td>Incoming Message for: AI Australia, Number: +6...</td>\n",
       "      <td>Marketing</td>\n",
       "    </tr>\n",
       "    <tr>\n",
       "      <th>34</th>\n",
       "      <td>Incoming Message for: AI Australia, Number: +6...</td>\n",
       "      <td>Job</td>\n",
       "    </tr>\n",
       "    <tr>\n",
       "      <th>35</th>\n",
       "      <td>Incoming Message for: AI Australia, Number: +6...</td>\n",
       "      <td>Job</td>\n",
       "    </tr>\n",
       "    <tr>\n",
       "      <th>36</th>\n",
       "      <td>Incoming Message for: AI Health, Number: +6142...</td>\n",
       "      <td>Contact</td>\n",
       "    </tr>\n",
       "    <tr>\n",
       "      <th>37</th>\n",
       "      <td>Incoming Message for: AI Australia, Number: +4...</td>\n",
       "      <td>Test</td>\n",
       "    </tr>\n",
       "    <tr>\n",
       "      <th>38</th>\n",
       "      <td>Incoming Message for: AI Australia, Number: +4...</td>\n",
       "      <td>Test</td>\n",
       "    </tr>\n",
       "    <tr>\n",
       "      <th>39</th>\n",
       "      <td>Incoming Message for: AI Australia, Number: +6...</td>\n",
       "      <td>Job</td>\n",
       "    </tr>\n",
       "    <tr>\n",
       "      <th>40</th>\n",
       "      <td>Incoming Message for: AI Australia, Number: +6...</td>\n",
       "      <td>Contact</td>\n",
       "    </tr>\n",
       "    <tr>\n",
       "      <th>41</th>\n",
       "      <td>Incoming Message for: AI Australia, Number: +6...</td>\n",
       "      <td>Contact</td>\n",
       "    </tr>\n",
       "    <tr>\n",
       "      <th>42</th>\n",
       "      <td>Incoming Message for: AI Australia, Number: +6...</td>\n",
       "      <td>Job</td>\n",
       "    </tr>\n",
       "    <tr>\n",
       "      <th>43</th>\n",
       "      <td>Incoming Message for: AI Australia, Number: +6...</td>\n",
       "      <td>Job</td>\n",
       "    </tr>\n",
       "    <tr>\n",
       "      <th>44</th>\n",
       "      <td>Incoming Message for: AI Australia, Number: +6...</td>\n",
       "      <td>Contact</td>\n",
       "    </tr>\n",
       "    <tr>\n",
       "      <th>45</th>\n",
       "      <td>Incoming Message for: AI Australia, Number: +6...</td>\n",
       "      <td>Contact</td>\n",
       "    </tr>\n",
       "    <tr>\n",
       "      <th>46</th>\n",
       "      <td>Incoming Message for: AI Australia, Number: +6...</td>\n",
       "      <td>Marketing</td>\n",
       "    </tr>\n",
       "    <tr>\n",
       "      <th>47</th>\n",
       "      <td>Incoming Message for: AI Australia, Number: 55...</td>\n",
       "      <td>Contact</td>\n",
       "    </tr>\n",
       "    <tr>\n",
       "      <th>48</th>\n",
       "      <td>Incoming Message for: AI Australia, Number: +6...</td>\n",
       "      <td>Contact</td>\n",
       "    </tr>\n",
       "    <tr>\n",
       "      <th>49</th>\n",
       "      <td>Incoming Message for: AI Australia, Number: +6...</td>\n",
       "      <td>Contact</td>\n",
       "    </tr>\n",
       "    <tr>\n",
       "      <th>50</th>\n",
       "      <td>Incoming Message for: AI Australia, Number: +6...</td>\n",
       "      <td>Contact</td>\n",
       "    </tr>\n",
       "    <tr>\n",
       "      <th>51</th>\n",
       "      <td>Incoming Message for: AI Health, Number: +6141...</td>\n",
       "      <td>Contact</td>\n",
       "    </tr>\n",
       "    <tr>\n",
       "      <th>52</th>\n",
       "      <td>Incoming Message for: AI Australia, Number: +8...</td>\n",
       "      <td>Marketing</td>\n",
       "    </tr>\n",
       "    <tr>\n",
       "      <th>53</th>\n",
       "      <td>Incoming Message for: AI Australia, Number: +8...</td>\n",
       "      <td>Marketing</td>\n",
       "    </tr>\n",
       "    <tr>\n",
       "      <th>54</th>\n",
       "      <td>Incoming Message for: AI Health, Number: +6126...</td>\n",
       "      <td>Marketing</td>\n",
       "    </tr>\n",
       "    <tr>\n",
       "      <th>55</th>\n",
       "      <td>Incoming Message for: AI Australia, Number: +6...</td>\n",
       "      <td>Job</td>\n",
       "    </tr>\n",
       "    <tr>\n",
       "      <th>56</th>\n",
       "      <td>Incoming Message for: AI Australia, Number: +6...</td>\n",
       "      <td>Job</td>\n",
       "    </tr>\n",
       "    <tr>\n",
       "      <th>57</th>\n",
       "      <td>Incoming Message for: AI Australia, Number: +6...</td>\n",
       "      <td>Job</td>\n",
       "    </tr>\n",
       "    <tr>\n",
       "      <th>58</th>\n",
       "      <td>Incoming Message for: AI Australia, Number: +6...</td>\n",
       "      <td>Job</td>\n",
       "    </tr>\n",
       "    <tr>\n",
       "      <th>59</th>\n",
       "      <td>Incoming Message for: AI Australia, Number: +6...</td>\n",
       "      <td>Marketing</td>\n",
       "    </tr>\n",
       "    <tr>\n",
       "      <th>60</th>\n",
       "      <td>Incoming Message for: AI Australia, Number: +6...</td>\n",
       "      <td>Contact</td>\n",
       "    </tr>\n",
       "  </tbody>\n",
       "</table>\n",
       "<p>61 rows × 2 columns</p>\n",
       "</div>"
      ],
      "text/plain": [
       "                                            Proc_text      Class\n",
       "0   Incoming Message for: AI Health, Number: +6126...    Contact\n",
       "1   Incoming Message for: AI Australia, Number: +6...    Contact\n",
       "2   Incoming Message for: AI Health, Number: +6126...    Contact\n",
       "3   Incoming Message for: AI Health, Number: +6143...    Contact\n",
       "4   Incoming Message for: AI Australia, Number: +1...    Contact\n",
       "5   Incoming Message for: AI Australia, Number: +9...    Contact\n",
       "6   Incoming Message for: AI Australia, Number: +6...        Job\n",
       "7   Incoming Message for: AI Australia, Number: +6...    Contact\n",
       "8   Incoming Message for: AI Australia, Number: +6...    Contact\n",
       "9   Incoming Message for: AI Australia, Number: +9...    Contact\n",
       "10  Incoming Message for: AI Health, Number: +6129...    Contact\n",
       "11  Incoming Message for: AI Health, Number: +6143...    Contact\n",
       "12  Incoming Message for: AI Health, Number: +6143...    Contact\n",
       "13  Incoming Message for: AI Health, Number: +6143...    Contact\n",
       "14  Incoming Message for: AI Australia, Number: +9...    Contact\n",
       "15  Incoming Message for: AI Australia, Number: +9...    Contact\n",
       "16  Incoming Message for: AI Australia, Number: +6...        Job\n",
       "17  Incoming Message for: AI Australia, Number: +6...    Contact\n",
       "18  Incoming Message for: AI Australia, Number: +6...    Contact\n",
       "19  Incoming Message for: AI Australia, Number: +6...    Contact\n",
       "20  Incoming Message for: AI Australia, Number: +6...       Test\n",
       "21  Incoming Message for: AI Australia, Number: +6...        Job\n",
       "22  Incoming Message for: AI Australia, Number: +6...        Job\n",
       "23  Incoming Message for: AI Australia, Number: +9...    Contact\n",
       "24  Incoming Message for: AI Australia, Number: +6...        Job\n",
       "25  Incoming Message for: AI Australia, Number: +6...        Job\n",
       "26  Incoming Message for: AI Australia, Number: +6...        Job\n",
       "27  Incoming Message for: AI Australia, Number: +6...        Job\n",
       "28  Incoming Message for: AI Australia, Number: +6...        Job\n",
       "29  Incoming Message for: AI Australia, Number: +6...        Job\n",
       "..                                                ...        ...\n",
       "31  Incoming Message for: AI Australia, Number: +6...        Job\n",
       "32  Incoming Message for: AI Australia, Number: +6...  Marketing\n",
       "33  Incoming Message for: AI Australia, Number: +6...  Marketing\n",
       "34  Incoming Message for: AI Australia, Number: +6...        Job\n",
       "35  Incoming Message for: AI Australia, Number: +6...        Job\n",
       "36  Incoming Message for: AI Health, Number: +6142...    Contact\n",
       "37  Incoming Message for: AI Australia, Number: +4...       Test\n",
       "38  Incoming Message for: AI Australia, Number: +4...       Test\n",
       "39  Incoming Message for: AI Australia, Number: +6...        Job\n",
       "40  Incoming Message for: AI Australia, Number: +6...    Contact\n",
       "41  Incoming Message for: AI Australia, Number: +6...    Contact\n",
       "42  Incoming Message for: AI Australia, Number: +6...        Job\n",
       "43  Incoming Message for: AI Australia, Number: +6...        Job\n",
       "44  Incoming Message for: AI Australia, Number: +6...    Contact\n",
       "45  Incoming Message for: AI Australia, Number: +6...    Contact\n",
       "46  Incoming Message for: AI Australia, Number: +6...  Marketing\n",
       "47  Incoming Message for: AI Australia, Number: 55...    Contact\n",
       "48  Incoming Message for: AI Australia, Number: +6...    Contact\n",
       "49  Incoming Message for: AI Australia, Number: +6...    Contact\n",
       "50  Incoming Message for: AI Australia, Number: +6...    Contact\n",
       "51  Incoming Message for: AI Health, Number: +6141...    Contact\n",
       "52  Incoming Message for: AI Australia, Number: +8...  Marketing\n",
       "53  Incoming Message for: AI Australia, Number: +8...  Marketing\n",
       "54  Incoming Message for: AI Health, Number: +6126...  Marketing\n",
       "55  Incoming Message for: AI Australia, Number: +6...        Job\n",
       "56  Incoming Message for: AI Australia, Number: +6...        Job\n",
       "57  Incoming Message for: AI Australia, Number: +6...        Job\n",
       "58  Incoming Message for: AI Australia, Number: +6...        Job\n",
       "59  Incoming Message for: AI Australia, Number: +6...  Marketing\n",
       "60  Incoming Message for: AI Australia, Number: +6...    Contact\n",
       "\n",
       "[61 rows x 2 columns]"
      ]
     },
     "execution_count": 14,
     "metadata": {},
     "output_type": "execute_result"
    }
   ],
   "source": [
    "#Read secondary data\n",
    "print(\"Reading secondary data\")\n",
    "sec_df = pd.read_csv(\"activities-min.csv\")\n",
    "sec_df_call = sec_df[sec_df[\"Deal\"].isna()]\n",
    "sec_df_call = sec_df_call[sec_df_call[\"Class\"].notna()]\n",
    "sec_df_filter = sec_df_call[sec_df_call[\"Subject\"].str.startswith(\"Incoming Message for:\")]\n",
    "sec_df_filter[\"Proc_text\"] = sec_df_filter.Subject.apply(get_text)\n",
    "sec_df_final = sec_df_filter[[\"Proc_text\", \"Class\"]]\n",
    "sec_df_final.reset_index().drop(\"index\", axis=1)"
   ]
  },
  {
   "cell_type": "code",
   "execution_count": 15,
   "metadata": {},
   "outputs": [],
   "source": [
    "df_final = pr_df_proc[[\"Proc_text\", \"Class\"]]"
   ]
  },
  {
   "cell_type": "code",
   "execution_count": 16,
   "metadata": {},
   "outputs": [
    {
     "name": "stdout",
     "output_type": "stream",
     "text": [
      "Appending Primary and Secondary data\n"
     ]
    }
   ],
   "source": [
    "print(\"Appending Primary and Secondary data\")\n",
    "final_df = df_final.append(sec_df_final, ignore_index = True) "
   ]
  },
  {
   "cell_type": "code",
   "execution_count": 17,
   "metadata": {},
   "outputs": [],
   "source": [
    "full_features = vect_texts(final_df[\"Proc_text\"])"
   ]
  },
  {
   "cell_type": "code",
   "execution_count": 18,
   "metadata": {},
   "outputs": [
    {
     "name": "stdout",
     "output_type": "stream",
     "text": [
      "Running 10 fold cross validation on multiple models for full data\n"
     ]
    }
   ],
   "source": [
    "print(\"Running 10 fold cross validation on multiple models for full data\")\n",
    "CV = 10\n",
    "cv_df_full = pd.DataFrame(index=range(CV * len(models)))\n",
    "entries = []\n",
    "for model in models:\n",
    "  model_name = model.__class__.__name__\n",
    "  accuracies = cross_val_score(model, full_features, final_df[\"Class\"], scoring='accuracy', cv=CV)\n",
    "  for fold_idx, accuracy in enumerate(accuracies):\n",
    "    entries.append((model_name, fold_idx, accuracy))\n",
    "cv_df_full = pd.DataFrame(entries, columns=['model_name', 'fold_idx', 'accuracy'])"
   ]
  },
  {
   "cell_type": "code",
   "execution_count": 19,
   "metadata": {},
   "outputs": [
    {
     "name": "stdout",
     "output_type": "stream",
     "text": [
      "Model accuracy after appending secondary data\n",
      "model_name\n",
      "LinearSVC                 0.640000\n",
      "LogisticRegression        0.616310\n",
      "MultinomialNB             0.655476\n",
      "RandomForestClassifier    0.623056\n",
      "SGDClassifier             0.560357\n",
      "Name: accuracy, dtype: float64\n"
     ]
    }
   ],
   "source": [
    "print(\"Model accuracy after appending secondary data\")\n",
    "print(cv_df_full.groupby('model_name').accuracy.mean())"
   ]
  },
  {
   "cell_type": "code",
   "execution_count": 20,
   "metadata": {},
   "outputs": [
    {
     "name": "stdout",
     "output_type": "stream",
     "text": [
      "Training models individually\n",
      "Spilting Train and Test data\n"
     ]
    }
   ],
   "source": [
    "#Split the data randomly for training and testing\n",
    "print(\"Training models individually\")\n",
    "print(\"Spilting Train and Test data\")\n",
    "X_train, X_test, y_train, y_test = train_test_split(full_features, final_df[\"Class\"], test_size=0.33, random_state=101)"
   ]
  },
  {
   "cell_type": "code",
   "execution_count": 21,
   "metadata": {},
   "outputs": [
    {
     "name": "stdout",
     "output_type": "stream",
     "text": [
      "Shape of train data\n",
      "(64, 31)\n",
      "Shape of test data\n",
      "(32, 31)\n"
     ]
    }
   ],
   "source": [
    "print(\"Shape of train data\")\n",
    "print(X_train.shape)\n",
    "print(\"Shape of test data\")\n",
    "print(X_test.shape)"
   ]
  },
  {
   "cell_type": "code",
   "execution_count": 22,
   "metadata": {},
   "outputs": [
    {
     "name": "stdout",
     "output_type": "stream",
     "text": [
      "Training Logistic regresssion model\n"
     ]
    }
   ],
   "source": [
    "#Multinomial NB classifier\n",
    "MNB_model = MultinomialNB()\n",
    "print(\"Training Logistic regresssion model\")\n",
    "MNB_model.fit(X_train, y_train)\n",
    "pred = MNB_model.predict(X_test) "
   ]
  },
  {
   "cell_type": "code",
   "execution_count": 23,
   "metadata": {},
   "outputs": [
    {
     "data": {
      "text/plain": [
       "array(['Job', 'Job', 'Job', 'Job', 'Contact', 'Contact', 'Job', 'Contact',\n",
       "       'Job', 'Contact', 'Job', 'Job', 'Contact', 'Job', 'Contact', 'Job',\n",
       "       'Contact', 'Contact', 'Contact', 'Contact', 'Job', 'Job',\n",
       "       'Contact', 'Job', 'Contact', 'Job', 'Contact', 'Job', 'Job', 'Job',\n",
       "       'Job', 'Job'], dtype='<U9')"
      ]
     },
     "execution_count": 23,
     "metadata": {},
     "output_type": "execute_result"
    }
   ],
   "source": [
    "MNB_model.predict(X_test)"
   ]
  },
  {
   "cell_type": "code",
   "execution_count": 24,
   "metadata": {},
   "outputs": [],
   "source": [
    "test_df = pd.DataFrame(y_test)\n",
    "actual_df = test_df.join(final_df[\"Proc_text\"])\n",
    "actual_df.reset_index(inplace=True)\n",
    "actual_df.drop('index', axis=1, inplace=True)\n",
    "actual_df = actual_df[['Proc_text', 'Class']]"
   ]
  },
  {
   "cell_type": "code",
   "execution_count": 25,
   "metadata": {},
   "outputs": [
    {
     "name": "stdout",
     "output_type": "stream",
     "text": [
      "                                           Proc_text      Class        0  \\\n",
      "0  Incoming Message for: AI Australia, Number: +6...    Contact      Job   \n",
      "1  Dear AI Melbourne,I am a Year 10 student at No...        Job      Job   \n",
      "2  Incoming Message for: AI Australia, Number: +9...    Contact      Job   \n",
      "3  Hi,We can promote your website on google by do...  Marketing      Job   \n",
      "4  Incoming Message for: AI Australia, Number: +6...        Job  Contact   \n",
      "\n",
      "   Match  \n",
      "0  False  \n",
      "1   True  \n",
      "2  False  \n",
      "3  False  \n",
      "4  False  \n"
     ]
    }
   ],
   "source": [
    "result_df = actual_df.join(pd.DataFrame(pred))\n",
    "result_df[\"Match\"] = result_df['Class']==result_df[0]\n",
    "print(result_df.head(5))"
   ]
  },
  {
   "cell_type": "code",
   "execution_count": 26,
   "metadata": {},
   "outputs": [
    {
     "name": "stdout",
     "output_type": "stream",
     "text": [
      "String prediction results to test.csv\n"
     ]
    }
   ],
   "source": [
    "print(\"String prediction results to test.csv\")\n",
    "result_df.to_csv(\"test.csv\")"
   ]
  },
  {
   "cell_type": "code",
   "execution_count": 27,
   "metadata": {},
   "outputs": [],
   "source": [
    "#print(confusion_matrix(y_test, pred))"
   ]
  },
  {
   "cell_type": "code",
   "execution_count": 28,
   "metadata": {},
   "outputs": [
    {
     "name": "stdout",
     "output_type": "stream",
     "text": [
      "Classifiaction report for Multinomial NB\n",
      "             precision    recall  f1-score   support\n",
      "\n",
      "    Contact       0.77      0.83      0.80        12\n",
      "        Job       0.58      0.85      0.69        13\n",
      "  Marketing       0.00      0.00      0.00         4\n",
      "       Test       0.00      0.00      0.00         3\n",
      "\n",
      "avg / total       0.52      0.66      0.58        32\n",
      "\n"
     ]
    }
   ],
   "source": [
    "print(\"Classifiaction report for Multinomial NB\")\n",
    "print(classification_report(y_test, pred))"
   ]
  },
  {
   "cell_type": "code",
   "execution_count": 29,
   "metadata": {},
   "outputs": [
    {
     "name": "stdout",
     "output_type": "stream",
     "text": [
      "Training Logistic regresssion model\n"
     ]
    }
   ],
   "source": [
    "#Multiclass logistic regression\n",
    "lr_model = LogisticRegression()\n",
    "print(\"Training Logistic regresssion model\")\n",
    "lr_model.fit(X_train, y_train)\n",
    "pred = lr_model.predict(X_test)"
   ]
  },
  {
   "cell_type": "code",
   "execution_count": 30,
   "metadata": {},
   "outputs": [
    {
     "name": "stdout",
     "output_type": "stream",
     "text": [
      "Classification report for Logistic regression\n",
      "             precision    recall  f1-score   support\n",
      "\n",
      "    Contact       0.71      0.83      0.77        12\n",
      "        Job       0.61      0.85      0.71        13\n",
      "  Marketing       0.00      0.00      0.00         4\n",
      "       Test       0.00      0.00      0.00         3\n",
      "\n",
      "avg / total       0.52      0.66      0.58        32\n",
      "\n"
     ]
    }
   ],
   "source": [
    "#print(confusion_matrix(y_test, pred))\n",
    "print(\"Classification report for Logistic regression\")\n",
    "print(classification_report(y_test, pred))"
   ]
  },
  {
   "cell_type": "code",
   "execution_count": 31,
   "metadata": {},
   "outputs": [
    {
     "name": "stdout",
     "output_type": "stream",
     "text": [
      "Training Randomforest classifier\n"
     ]
    }
   ],
   "source": [
    "#Randomforest classifier\n",
    "rf_model = RandomForestClassifier(n_estimators=200,max_depth=3, random_state=0)\n",
    "print(\"Training Randomforest classifier\")\n",
    "rf_model.fit(X_train, y_train)\n",
    "pred = rf_model.predict(X_test)"
   ]
  },
  {
   "cell_type": "code",
   "execution_count": 32,
   "metadata": {},
   "outputs": [
    {
     "name": "stdout",
     "output_type": "stream",
     "text": [
      "Classification report for Logistic regression\n",
      "             precision    recall  f1-score   support\n",
      "\n",
      "    Contact       0.90      0.75      0.82        12\n",
      "        Job       0.55      0.92      0.69        13\n",
      "  Marketing       0.00      0.00      0.00         4\n",
      "       Test       0.00      0.00      0.00         3\n",
      "\n",
      "avg / total       0.56      0.66      0.59        32\n",
      "\n"
     ]
    }
   ],
   "source": [
    "#print(confusion_matrix(y_test, pred))\n",
    "print(\"Classification report for Logistic regression\")\n",
    "print(classification_report(y_test, pred))"
   ]
  },
  {
   "cell_type": "code",
   "execution_count": 33,
   "metadata": {},
   "outputs": [
    {
     "name": "stdout",
     "output_type": "stream",
     "text": [
      "Training Linear Support Vector Classifier\n"
     ]
    }
   ],
   "source": [
    "#Linear SVC\n",
    "svc_model = LinearSVC()\n",
    "print(\"Training Linear Support Vector Classifier\")\n",
    "svc_model.fit(X_train, y_train)\n",
    "pred = svc_model.predict(X_test)"
   ]
  },
  {
   "cell_type": "code",
   "execution_count": 34,
   "metadata": {
    "scrolled": true
   },
   "outputs": [
    {
     "name": "stdout",
     "output_type": "stream",
     "text": [
      "Classification report for Linear SVC\n",
      "             precision    recall  f1-score   support\n",
      "\n",
      "    Contact       0.67      0.83      0.74        12\n",
      "     Invest       0.00      0.00      0.00         0\n",
      "        Job       0.75      0.69      0.72        13\n",
      "  Marketing       0.75      0.75      0.75         4\n",
      "       Test       0.00      0.00      0.00         3\n",
      "\n",
      "avg / total       0.65      0.69      0.66        32\n",
      "\n"
     ]
    }
   ],
   "source": [
    "#print(confusion_matrix(y_test, pred))\n",
    "print(\"Classification report for Linear SVC\")\n",
    "print(classification_report(y_test, pred))"
   ]
  },
  {
   "cell_type": "code",
   "execution_count": null,
   "metadata": {},
   "outputs": [
    {
     "name": "stdout",
     "output_type": "stream",
     "text": [
      "***Thank you***\n"
     ]
    }
   ],
   "source": [
    "print(\"***Thank you***\")\n",
    "input()"
   ]
  }
 ],
 "metadata": {
  "kernelspec": {
   "display_name": "Python 3",
   "language": "python",
   "name": "python3"
  },
  "language_info": {
   "codemirror_mode": {
    "name": "ipython",
    "version": 3
   },
   "file_extension": ".py",
   "mimetype": "text/x-python",
   "name": "python",
   "nbconvert_exporter": "python",
   "pygments_lexer": "ipython3",
   "version": "3.6.5"
  }
 },
 "nbformat": 4,
 "nbformat_minor": 2
}
